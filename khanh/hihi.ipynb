{
 "cells": [
  {
   "cell_type": "code",
   "execution_count": 1,
   "id": "8d3582c2",
   "metadata": {},
   "outputs": [],
   "source": [
    "from selenium import webdriver\n",
    "import time\n",
    "from selenium.webdriver.chrome.service import Service\n",
    "from selenium.webdriver.support.ui import WebDriverWait\n",
    "from selenium.webdriver.common.by import By\n",
    "from selenium.webdriver.support import expected_conditions as EC\n",
    "from PIL import Image  \n",
    "import PIL\n",
    "import math\n",
    "import urllib\n",
    "from urllib.request import urlretrieve\n",
    "import cv2\n",
    "import os\n",
    "import numpy as np\n",
    "import pandas as pd\n",
    "\n",
    "\n",
    "service = Service(executable_path='./chromedriver.exe')\n",
    "options = webdriver.ChromeOptions()\n",
    "driver = webdriver.Chrome(service=service, options=options)"
   ]
  },
  {
   "cell_type": "code",
   "execution_count": 2,
   "id": "512fb37e",
   "metadata": {},
   "outputs": [],
   "source": [
    "list_link = ['https://www.google.com/search?q=m%C3%A1y+bay&tbm=isch&ved=2ahUKEwjOj4jFkKeDAxWGS_UHHaHuCHAQ2-cCegQIABAA&oq=m%C3%A1y+bay&gs_lcp=CgNpbWcQAzINCAAQgAQQigUQQxCxAzIKCAAQgAQQigUQQzIKCAAQgAQQigUQQzIFCAAQgAQyBQgAEIAEMgUIABCABDIKCAAQgAQQigUQQzIKCAAQgAQQigUQQzIKCAAQgAQQigUQQzIFCAAQgARQyQhYyQhg2QpoAHAAeACAAZgBiAGWApIBAzAuMpgBAKABAaoBC2d3cy13aXotaW1nwAEB&sclient=img&ei=NaWHZY6hGIaX1e8Pod2jgAc&bih=740&biw=1492',\n",
    "]"
   ]
  },
  {
   "cell_type": "code",
   "execution_count": 28,
   "id": "1f449370",
   "metadata": {},
   "outputs": [],
   "source": [
    "n = len(list_link)\n",
    "\n",
    "def crawl_de(link, label):\n",
    "    os.chdir(r'C:\\Users\\ACER\\Downloads\\khanh')\n",
    "    driver.get(link)\n",
    "    z = 0\n",
    "    # Get scroll height\n",
    "    last_height = driver.execute_script(\"return document.body.scrollHeight\")\n",
    "\n",
    "    #Nếu như có sẵn thư mục image rồi thì bỏ qua dòng lệnh tạo thư mục\n",
    "    try:\n",
    "        os.makedirs(label)\n",
    "    except:\n",
    "        pass\n",
    "    os.chdir(label)\n",
    "\n",
    "    while True:\n",
    "        # Scroll down to bottom\n",
    "        driver.execute_script(\"window.scrollTo(0, document.body.scrollHeight);\")\n",
    "\n",
    "        # Wait to load page\n",
    "        time.sleep(5)\n",
    "\n",
    "        # Calculate new scroll height and compare with last scroll height\n",
    "        new_height = driver.execute_script(\"return document.body.scrollHeight\")\n",
    "        if new_height == last_height:\n",
    "            break\n",
    "        last_height = new_height\n",
    "\n",
    "\n",
    "\n",
    "\n",
    "    imgs = driver.find_elements(By.XPATH, '//div[@class=\"fR600b islir\"]/img')\n",
    "    nums = len(imgs)\n",
    "    for num in range(nums):\n",
    "        try:\n",
    "            path_url = imgs[num].get_attribute(\"src\")\n",
    "            img = str(num) + '.jpg'\n",
    "\n",
    "            urlretrieve(path_url, img)\n",
    "        except:\n",
    "            pass\n",
    "    os.chdir(r'C:\\Users\\ACER\\Downloads\\khanh')"
   ]
  },
  {
   "cell_type": "code",
   "execution_count": 29,
   "id": "3df34f32",
   "metadata": {},
   "outputs": [],
   "source": [
    "crawl_de(list_link[0], 'Máy bay')"
   ]
  },
  {
   "cell_type": "code",
   "execution_count": 30,
   "id": "9d99561a",
   "metadata": {},
   "outputs": [
    {
     "name": "stdout",
     "output_type": "stream",
     "text": [
      "a\n"
     ]
    }
   ],
   "source": [
    "print('a')"
   ]
  },
  {
   "cell_type": "code",
   "execution_count": 26,
   "id": "a2051dcc",
   "metadata": {},
   "outputs": [],
   "source": [
    "    os.chdir(r'C:\\Users\\ACER\\Downloads\\khanh')"
   ]
  },
  {
   "cell_type": "code",
   "execution_count": null,
   "id": "61a9124d",
   "metadata": {},
   "outputs": [],
   "source": []
  }
 ],
 "metadata": {
  "kernelspec": {
   "display_name": "Python 3",
   "language": "python",
   "name": "python3"
  },
  "language_info": {
   "codemirror_mode": {
    "name": "ipython",
    "version": 3
   },
   "file_extension": ".py",
   "mimetype": "text/x-python",
   "name": "python",
   "nbconvert_exporter": "python",
   "pygments_lexer": "ipython3",
   "version": "3.8.8"
  }
 },
 "nbformat": 4,
 "nbformat_minor": 5
}
